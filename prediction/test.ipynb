{
 "cells": [
  {
   "cell_type": "code",
   "execution_count": 1,
   "metadata": {},
   "outputs": [
    {
     "name": "stdout",
     "output_type": "stream",
     "text": [
      "tensor([[0.3831, 0.4444],\n",
      "        [0.4287, 0.4069],\n",
      "        [0.3927, 0.4125],\n",
      "        [0.4042, 0.4212],\n",
      "        [0.4081, 0.4554]], grad_fn=<AddmmBackward0>)\n"
     ]
    }
   ],
   "source": [
    "import torch\n",
    "import torch.nn as nn\n",
    "\n",
    "# Define LSTM model\n",
    "class LSTM(nn.Module):  # 继承nn.Module类，定义自己的LSTM类\n",
    "\n",
    "    # Constructor\n",
    "    def __init__(self, input_size, hidden_size, num_layers, output_size):\n",
    "        super(LSTM, self).__init__()  # 调用nn.Module的构造函数\n",
    "        self.hidden_size = hidden_size  # 设定隐藏状态的尺寸\n",
    "        self.num_layers = num_layers  # 设定LSTM层数\n",
    "        self.lstm = nn.LSTM(input_size, hidden_size, num_layers, batch_first=True)  # 定义LSTM层，batch_first=True表示输入的第一个维度是batch_size\n",
    "        self.fc = nn.Linear(hidden_size, output_size)  # 定义全连接层，将LSTM层的输出转换为最终的输出\n",
    "\n",
    "    # Forward function\n",
    "    def forward(self, x, h0, c0):\n",
    "        # x: input of shape (batch_size, seq_len, input_size)\n",
    "        # h0: initial hidden state of shape (num_layers, batch_size, hidden_size)\n",
    "        # c0: initial cell state of shape (num_layers, batch_size, hidden_size)\n",
    "\n",
    "        out, (hn, cn) = self.lstm(x, (h0, c0))  # 调用LSTM层进行前向运算，out为输出，(hn, cn)为最后一个时间步长的隐藏状态和单元状态\n",
    "        out = self.fc(out[:, -1, :])  # 取最后一个时间步长的输出，并通过全连接层得到最终的输出结果\n",
    "        # out: output of shape (batch_size, output_size)\n",
    "        return out\n",
    "\n",
    "# Test the model using example data\n",
    "input_size, hidden_size, num_layers, output_size = 3, 4, 2, 2  # 设定模型参数\n",
    "batch_size, seq_len = 5, 3\n",
    "x = torch.randn(batch_size, seq_len, input_size)  # 生成随机输入张量\n",
    "h0 = torch.randn(num_layers, batch_size, hidden_size)  # 生成随机初始隐藏状态\n",
    "c0 = torch.randn(num_layers, batch_size, hidden_size)  # 生成随机初始单元状态\n",
    "model = LSTM(input_size, hidden_size, num_layers, output_size)  # 实例化模型\n",
    "output = model(x, h0, c0)  # 测试模型\n",
    "print(output)  # 输出模型结果"
   ]
  },
  {
   "cell_type": "code",
   "execution_count": null,
   "metadata": {},
   "outputs": [],
   "source": [
    "class MyModel(torch.nn.Module):\n",
    "    \n",
    "    def __init__(self, input_size, hidden_size, output_size):\n",
    "        super(MyModel, self).__init__()\n",
    "        \n",
    "        self.hidden_size = hidden_size\n",
    "        self.lstm = torch.nn.LSTM(input_size=input_size, hidden_size=hidden_size, batch_first=True)\n",
    "        self.fc = torch.nn.Linear(hidden_size, output_size)\n",
    "        \n",
    "    def forward(self, x):\n",
    "        h0 = torch.zeros(1, x.size(0), self.hidden_size)\n",
    "        c0 = torch.zeros(1, x.size(0), self.hidden_size)\n",
    "        lstm_out, _ = self.lstm(x, (h0, c0))\n",
    "        out = self.fc(lstm_out[:, -1, :])\n",
    "        return out\n"
   ]
  },
  {
   "cell_type": "code",
   "execution_count": null,
   "metadata": {},
   "outputs": [],
   "source": [
    "# Define your model\n",
    "model = MyModel(input_size=7, hidden_size=16, output_size=1)\n",
    "\n",
    "# Define loss function\n",
    "criterion = torch.nn.MSELoss()\n",
    "\n",
    "# Define optimizer\n",
    "optimizer = torch.optim.Adam(model.parameters(), lr=0.001)\n",
    "\n",
    "# Train the model\n",
    "for epoch in range(1000):\n",
    "    # Forward pass\n",
    "    y_pred = model(x_train)\n",
    "\n",
    "    # Compute loss\n",
    "    loss = criterion(y_pred, y_train)\n",
    "\n",
    "    # Zero gradients, backward pass, and update weights\n",
    "    optimizer.zero_grad()\n",
    "    loss.backward()\n",
    "    optimizer.step()\n",
    "\n",
    "    # Print progress\n",
    "    if epoch % 100 == 0:\n",
    "        print('Epoch [{}/{}], Loss: {:.4f}'.format(epoch+1, 1000, loss.item()))\n"
   ]
  },
  {
   "cell_type": "code",
   "execution_count": null,
   "metadata": {},
   "outputs": [],
   "source": [
    "# Load your testing data\n",
    "x_test = torch.tensor(x_test, dtype=torch.float)\n",
    "y_test = torch.tensor(y_test, dtype=torch.float)\n",
    "\n",
    "# Run the test data through the trained model to predict y_test_hat\n",
    "with torch.no_grad():\n",
    "    y_test_hat = model(x_test)\n",
    "\n",
    "# Calculate mean squared error between y_test_hat and y_test\n",
    "mse = torch.nn.functional.mse_loss(y_test_hat, y_test)\n",
    "\n",
    "print(\"Mean Squared Error of the model on the test set: \", mse.item())"
   ]
  },
  {
   "cell_type": "code",
   "execution_count": null,
   "metadata": {},
   "outputs": [],
   "source": [
    "import matplotlib.pyplot as plt\n",
    "\n",
    "# Convert tensors to numpy arrays for plotting\n",
    "x_test_np = x_test.numpy()\n",
    "y_test_np = y_test.numpy()\n",
    "y_test_hat_np = y_test_hat.numpy()\n",
    "\n",
    "# Plot the testing data and predicted values\n",
    "plt.plot(y_test_np, label='True')\n",
    "plt.plot(y_test_hat_np, label='Predicted')\n",
    "\n",
    "# Format the plot\n",
    "plt.title('Testing Data vs Predicted Values')\n",
    "plt.xlabel('Sample')\n",
    "plt.ylabel('Value')\n",
    "plt.legend()\n",
    "\n",
    "# Display the plot\n",
    "plt.show()"
   ]
  }
 ],
 "metadata": {
  "kernelspec": {
   "display_name": "ds",
   "language": "python",
   "name": "ds"
  },
  "language_info": {
   "codemirror_mode": {
    "name": "ipython",
    "version": 3
   },
   "file_extension": ".py",
   "mimetype": "text/x-python",
   "name": "python",
   "nbconvert_exporter": "python",
   "pygments_lexer": "ipython3",
   "version": "3.8.13"
  },
  "orig_nbformat": 4
 },
 "nbformat": 4,
 "nbformat_minor": 2
}
